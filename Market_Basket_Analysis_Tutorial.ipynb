{
 "cells": [
  {
   "cell_type": "markdown",
   "id": "343a42b7",
   "metadata": {},
   "source": [
    "# Market Basket Analysis Tutorial\n",
    "\n",
    "This notebook demonstrates how to perform market basket analysis using the `market_basket_analysis` module.\n",
    "    "
   ]
  },
  {
   "cell_type": "code",
   "execution_count": 2,
   "id": "150f939f",
   "metadata": {},
   "outputs": [],
   "source": [
    "from pathlib import Path\n",
    "from mba.market_basket_analysis import load_data, prepare_transactions, encode_transactions, perform_apriori, generate_rules"
   ]
  },
  {
   "cell_type": "markdown",
   "id": "06b07c4a",
   "metadata": {},
   "source": [
    "\n",
    "## Tutorial: Market Basket Analysis\n",
    "\n",
    "This tutorial demonstrates how to use the `market_basket_analysis` module to perform market basket analysis on grocery items. Follow the steps below:\n",
    "    \n",
    "1. Load the dataset.\n",
    "2. Prepare the transactions from the dataset.\n",
    "3. Encode the transactions for analysis.\n",
    "4. Perform the Apriori algorithm to find frequent itemsets.\n",
    "5. Generate association rules from the frequent itemsets.\n",
    "    "
   ]
  },
  {
   "cell_type": "code",
   "execution_count": 3,
   "id": "9b4f294f",
   "metadata": {},
   "outputs": [],
   "source": [
    "# Load the dataset\n",
    "df = load_data(Path(\"./data/Market_Basket_Optimisation.csv\"))"
   ]
  },
  {
   "cell_type": "code",
   "execution_count": 4,
   "id": "777e4f05",
   "metadata": {},
   "outputs": [],
   "source": [
    "# Prepare transactions\n",
    "transactions = prepare_transactions(df)"
   ]
  },
  {
   "cell_type": "code",
   "execution_count": 5,
   "id": "5a0e8bce",
   "metadata": {},
   "outputs": [],
   "source": [
    "# Encode transactions\n",
    "df_encoded = encode_transactions(transactions)"
   ]
  },
  {
   "cell_type": "code",
   "execution_count": 6,
   "id": "dcfd6539",
   "metadata": {},
   "outputs": [],
   "source": [
    "# Perform Apriori algorithm\n",
    "frequent_itemsets = perform_apriori(df_encoded, min_support=0.005)"
   ]
  },
  {
   "cell_type": "code",
   "execution_count": 7,
   "id": "f14693c3",
   "metadata": {},
   "outputs": [],
   "source": [
    "# Generate rules\n",
    "rules = generate_rules(frequent_itemsets, metric=\"lift\", min_threshold=0.9)"
   ]
  },
  {
   "cell_type": "code",
   "execution_count": 8,
   "id": "6f523eca",
   "metadata": {},
   "outputs": [
    {
     "data": {
      "text/html": [
       "<div>\n",
       "<style scoped>\n",
       "    .dataframe tbody tr th:only-of-type {\n",
       "        vertical-align: middle;\n",
       "    }\n",
       "\n",
       "    .dataframe tbody tr th {\n",
       "        vertical-align: top;\n",
       "    }\n",
       "\n",
       "    .dataframe thead th {\n",
       "        text-align: right;\n",
       "    }\n",
       "</style>\n",
       "<table border=\"1\" class=\"dataframe\">\n",
       "  <thead>\n",
       "    <tr style=\"text-align: right;\">\n",
       "      <th></th>\n",
       "      <th>antecedents</th>\n",
       "      <th>consequents</th>\n",
       "      <th>antecedent support</th>\n",
       "      <th>consequent support</th>\n",
       "      <th>support</th>\n",
       "      <th>confidence</th>\n",
       "      <th>lift</th>\n",
       "      <th>leverage</th>\n",
       "      <th>conviction</th>\n",
       "      <th>zhangs_metric</th>\n",
       "    </tr>\n",
       "  </thead>\n",
       "  <tbody>\n",
       "    <tr>\n",
       "      <th>0</th>\n",
       "      <td>(burgers)</td>\n",
       "      <td>(almonds)</td>\n",
       "      <td>0.087188</td>\n",
       "      <td>0.020397</td>\n",
       "      <td>0.005199</td>\n",
       "      <td>0.059633</td>\n",
       "      <td>2.923577</td>\n",
       "      <td>0.003421</td>\n",
       "      <td>1.041724</td>\n",
       "      <td>0.720799</td>\n",
       "    </tr>\n",
       "    <tr>\n",
       "      <th>1</th>\n",
       "      <td>(almonds)</td>\n",
       "      <td>(burgers)</td>\n",
       "      <td>0.020397</td>\n",
       "      <td>0.087188</td>\n",
       "      <td>0.005199</td>\n",
       "      <td>0.254902</td>\n",
       "      <td>2.923577</td>\n",
       "      <td>0.003421</td>\n",
       "      <td>1.225089</td>\n",
       "      <td>0.671653</td>\n",
       "    </tr>\n",
       "    <tr>\n",
       "      <th>2</th>\n",
       "      <td>(chocolate)</td>\n",
       "      <td>(almonds)</td>\n",
       "      <td>0.163845</td>\n",
       "      <td>0.020397</td>\n",
       "      <td>0.005999</td>\n",
       "      <td>0.036615</td>\n",
       "      <td>1.795099</td>\n",
       "      <td>0.002657</td>\n",
       "      <td>1.016834</td>\n",
       "      <td>0.529719</td>\n",
       "    </tr>\n",
       "    <tr>\n",
       "      <th>3</th>\n",
       "      <td>(almonds)</td>\n",
       "      <td>(chocolate)</td>\n",
       "      <td>0.020397</td>\n",
       "      <td>0.163845</td>\n",
       "      <td>0.005999</td>\n",
       "      <td>0.294118</td>\n",
       "      <td>1.795099</td>\n",
       "      <td>0.002657</td>\n",
       "      <td>1.184553</td>\n",
       "      <td>0.452150</td>\n",
       "    </tr>\n",
       "    <tr>\n",
       "      <th>4</th>\n",
       "      <td>(eggs)</td>\n",
       "      <td>(almonds)</td>\n",
       "      <td>0.179709</td>\n",
       "      <td>0.020397</td>\n",
       "      <td>0.006532</td>\n",
       "      <td>0.036350</td>\n",
       "      <td>1.782108</td>\n",
       "      <td>0.002867</td>\n",
       "      <td>1.016555</td>\n",
       "      <td>0.535014</td>\n",
       "    </tr>\n",
       "  </tbody>\n",
       "</table>\n",
       "</div>"
      ],
      "text/plain": [
       "   antecedents  consequents  antecedent support  consequent support   support  \\\n",
       "0    (burgers)    (almonds)            0.087188            0.020397  0.005199   \n",
       "1    (almonds)    (burgers)            0.020397            0.087188  0.005199   \n",
       "2  (chocolate)    (almonds)            0.163845            0.020397  0.005999   \n",
       "3    (almonds)  (chocolate)            0.020397            0.163845  0.005999   \n",
       "4       (eggs)    (almonds)            0.179709            0.020397  0.006532   \n",
       "\n",
       "   confidence      lift  leverage  conviction  zhangs_metric  \n",
       "0    0.059633  2.923577  0.003421    1.041724       0.720799  \n",
       "1    0.254902  2.923577  0.003421    1.225089       0.671653  \n",
       "2    0.036615  1.795099  0.002657    1.016834       0.529719  \n",
       "3    0.294118  1.795099  0.002657    1.184553       0.452150  \n",
       "4    0.036350  1.782108  0.002867    1.016555       0.535014  "
      ]
     },
     "execution_count": 8,
     "metadata": {},
     "output_type": "execute_result"
    }
   ],
   "source": [
    "# Displaying the rules\n",
    "rules.head()"
   ]
  }
 ],
 "metadata": {
  "kernelspec": {
   "display_name": ".venv",
   "language": "python",
   "name": "python3"
  },
  "language_info": {
   "codemirror_mode": {
    "name": "ipython",
    "version": 3
   },
   "file_extension": ".py",
   "mimetype": "text/x-python",
   "name": "python",
   "nbconvert_exporter": "python",
   "pygments_lexer": "ipython3",
   "version": "3.11.7"
  }
 },
 "nbformat": 4,
 "nbformat_minor": 5
}
